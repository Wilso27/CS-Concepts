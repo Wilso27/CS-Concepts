{
 "cells": [
  {
   "cell_type": "code",
   "execution_count": 18,
   "metadata": {},
   "outputs": [
    {
     "data": {
      "text/plain": [
       "array([[0.00000000e+00, 0.00000000e+00, 0.00000000e+00, 0.00000000e+00,\n",
       "        0.00000000e+00, 0.00000000e+00, 1.99365616e-03, 5.49750328e-02,\n",
       "        4.75978136e-01, 1.39529853e+01, 1.51880819e+02],\n",
       "       [0.00000000e+00, 0.00000000e+00, 0.00000000e+00, 0.00000000e+00,\n",
       "        0.00000000e+00, 0.00000000e+00, 0.00000000e+00, 9.96351242e-04,\n",
       "        0.00000000e+00, 3.81922722e-03, 2.02856064e-02]])"
      ]
     },
     "execution_count": 18,
     "metadata": {},
     "output_type": "execute_result"
    }
   ],
   "source": [
    "def prob26():\n",
    "    import numpy as np \n",
    "    import time\n",
    "    L = []\n",
    "    for k in range(1,12):\n",
    "        A = np.random.randint(1,10,size = (2**k,2**k))\n",
    "        B = np.random.randint(1,10,size = (2**k,2**k))\n",
    "        x = np.random.randint(1,10,size = 2**k)\n",
    "        L.append((A,B,x))\n",
    "    T = []\n",
    "    for i in range(len(L)):\n",
    "        start1 = time.time()\n",
    "        L[i][0]@(L[i][1]@L[i][2])\n",
    "        end1 = time.time()\n",
    "        T.append(end1-start1)\n",
    "    U = []\n",
    "    for i in range(len(L)):\n",
    "        start2 = time.time()\n",
    "        (L[i][0]@L[i][1])@L[i][2]\n",
    "        end2 = time.time()\n",
    "        U.append(end2-start2)\n",
    "    R = []\n",
    "    # for j in range(len(T)):\n",
    "    #     r = U[j]/T[j]\n",
    "    #     R.append(r)\n",
    "\n",
    "    return np.array([U,T])\n",
    "\n",
    "prob26()"
   ]
  },
  {
   "cell_type": "code",
   "execution_count": 19,
   "metadata": {},
   "outputs": [
    {
     "data": {
      "text/plain": [
       "array([[0.        , 0.        , 0.        , 0.        , 0.        ,\n",
       "        0.        , 0.00762367, 0.00190854, 0.00442243, 0.01301479,\n",
       "        0.07728767],\n",
       "       [0.        , 0.        , 0.        , 0.        , 0.        ,\n",
       "        0.        , 0.        , 0.        , 0.        , 0.        ,\n",
       "        0.        ]])"
      ]
     },
     "execution_count": 19,
     "metadata": {},
     "output_type": "execute_result"
    }
   ],
   "source": [
    "def prob27():\n",
    "    import numpy as np\n",
    "    import time\n",
    "    M = []\n",
    "    for n in range(1,12):\n",
    "        I = np.eye(2**n)\n",
    "        u = np.random.randint(1,10,size = 2**n)\n",
    "        v = np.random.randint(1,10,size = 2**n)\n",
    "        x = np.random.randint(1,10,size = 2**n)\n",
    "        M.append((I,u,v.T,x))\n",
    "    V = []\n",
    "    for i in range(len(L)):\n",
    "        start1 = time.time()\n",
    "        (M[i][0] + M[i][1]@M[i][2])@M[i][3]\n",
    "        end1 = time.time()\n",
    "        V.append(end1-start1)\n",
    "    W = []\n",
    "    for i in range(len(L)):\n",
    "        start2 = time.time()\n",
    "        M[i][3] + M[i][1]*(M[i][2]@M[i][3])\n",
    "        end2 = time.time()\n",
    "        W.append(end2-start2)\n",
    "    return np.array([V,W])\n",
    "\n",
    "prob27()"
   ]
  }
 ],
 "metadata": {
  "kernelspec": {
   "display_name": "Python 3.9.12 ('base')",
   "language": "python",
   "name": "python3"
  },
  "language_info": {
   "codemirror_mode": {
    "name": "ipython",
    "version": 3
   },
   "file_extension": ".py",
   "mimetype": "text/x-python",
   "name": "python",
   "nbconvert_exporter": "python",
   "pygments_lexer": "ipython3",
   "version": "3.9.12"
  },
  "orig_nbformat": 4,
  "vscode": {
   "interpreter": {
    "hash": "c3fd8f61f8f54ff0cae9a83bb813d9d5683b3c3fa7f3560094c24f7445c0d4f4"
   }
  }
 },
 "nbformat": 4,
 "nbformat_minor": 2
}
